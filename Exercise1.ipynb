{
  "nbformat": 4,
  "nbformat_minor": 0,
  "metadata": {
    "colab": {
      "provenance": [],
      "include_colab_link": true
    },
    "kernelspec": {
      "name": "python3",
      "display_name": "Python 3"
    },
    "language_info": {
      "name": "python"
    }
  },
  "cells": [
    {
      "cell_type": "markdown",
      "metadata": {
        "id": "view-in-github",
        "colab_type": "text"
      },
      "source": [
        "<a href=\"https://colab.research.google.com/github/drihn/CCADMACL_EXERCISES_COM222ML/blob/main/Exercise1.ipynb\" target=\"_parent\"><img src=\"https://colab.research.google.com/assets/colab-badge.svg\" alt=\"Open In Colab\"/></a>"
      ]
    },
    {
      "cell_type": "markdown",
      "source": [
        "# Exercise 1\n",
        "\n",
        "Use all feature selection methods to find the best features"
      ],
      "metadata": {
        "id": "wyguhJBCREPq"
      }
    },
    {
      "cell_type": "markdown",
      "source": [
        "## Dataset Information\n",
        "\n",
        "## Features\n",
        "\n",
        "Number of Instances: 20640\n",
        "\n",
        "Number of Attributes: 8 numeric, predictive attributes and the target\n",
        "\n",
        "Attribute Information:\n",
        "\n",
        "MedInc - median income in block group\n",
        "\n",
        "HouseAge - median house age in block group\n",
        "\n",
        "AveRooms - average number of rooms per household\n",
        "\n",
        "AveBedrms - average number of bedrooms per household\n",
        "\n",
        "Population - block group population\n",
        "\n",
        "AveOccup - average number of household members\n",
        "\n",
        "Latitude - block group latitude\n",
        "\n",
        "Longitude - block group longitude\n",
        "\n",
        "## Target\n",
        "The target variable is the median house value for California districts, expressed in hundreds of thousands of dollars ($100,000)."
      ],
      "metadata": {
        "id": "W1nEzxdXQbpH"
      }
    },
    {
      "cell_type": "code",
      "execution_count": 6,
      "metadata": {
        "id": "ZAVjjtJ9PVED"
      },
      "outputs": [],
      "source": [
        "from sklearn.datasets import fetch_california_housing\n",
        "import pandas as pd\n",
        "from sklearn.tree import DecisionTreeRegressor\n",
        "from sklearn.model_selection import train_test_split\n",
        "from sklearn.feature_selection import VarianceThreshold\n",
        "from sklearn.ensemble import RandomForestRegressor\n",
        "from sklearn.feature_selection import RFE\n",
        "from sklearn.feature_selection import SelectFromModel\n",
        "from sklearn.ensemble import RandomForestRegressor\n",
        "from sklearn.model_selection import train_test_split\n",
        "from sklearn.metrics import root_mean_squared_error as rmse\n",
        "\n",
        "\n",
        "\n"
      ]
    },
    {
      "cell_type": "code",
      "source": [
        "housing = fetch_california_housing(as_frame=True)\n",
        "df = pd.concat([housing.data, housing.target], axis=1)\n",
        "df_target = housing.target\n",
        "df_features = housing.data"
      ],
      "metadata": {
        "id": "N12mwL2GPX48"
      },
      "execution_count": 7,
      "outputs": []
    },
    {
      "cell_type": "markdown",
      "source": [
        "1. Use any filter method to select the best features"
      ],
      "metadata": {
        "id": "6tqvZqTtRgRe"
      }
    },
    {
      "cell_type": "code",
      "source": [
        "\n",
        "\n",
        "threshold = 5\n",
        "sl = VarianceThreshold(threshold=threshold)\n",
        "s = sl.fit(df)\n",
        "\n",
        "res = df.iloc[:, s.get_support()]\n",
        "print(\"Filtered Method\")\n",
        "print(\"Filtered: \", res.columns)\n",
        "\n",
        "tree1 = DecisionTreeRegressor(random_state=0)\n",
        "\n",
        "X = df[res.columns]\n",
        "y = housing.target\n",
        "X_train, X_test1, y_train, y_test1 = train_test_split(X, y, random_state=1)\n",
        "\n",
        "tree1.fit(X_train, y_train)\n",
        "y_pred1 = tree1.predict(X_test1)\n"
      ],
      "metadata": {
        "id": "K5DB6f6jRmUF",
        "outputId": "8cc02755-63d6-48c1-8c6a-94c14cb4e650",
        "colab": {
          "base_uri": "https://localhost:8080/"
        }
      },
      "execution_count": 8,
      "outputs": [
        {
          "output_type": "stream",
          "name": "stdout",
          "text": [
            "Filtered Method\n",
            "Filtered:  Index(['HouseAge', 'AveRooms', 'Population', 'AveOccup'], dtype='object')\n"
          ]
        }
      ]
    },
    {
      "cell_type": "markdown",
      "source": [
        "2. Use any wrapper method to select the best features"
      ],
      "metadata": {
        "id": "eZ5kAdM7RpDD"
      }
    },
    {
      "cell_type": "code",
      "source": [
        "threshold = 5\n",
        "rfr = RandomForestRegressor(n_estimators=200, random_state=0, max_depth=3)\n",
        "sl = RFE(rfr, n_features_to_select=threshold, step=1)\n",
        "\n",
        "sl = sl.fit(df_features, df_target.values.ravel())\n",
        "index = sl.get_support()\n",
        "res = df_features.iloc[:, index]\n",
        "print(\"Wrapper Method\")\n",
        "print(\"Wrapper: \", res.columns)\n",
        "\n",
        "tree2 = DecisionTreeRegressor(random_state=0)\n",
        "\n",
        "X = df[res.columns]\n",
        "y = housing.target\n",
        "X_train, X_test2, y_train, y_test2 = train_test_split(X, y, random_state=1)\n",
        "\n",
        "tree2.fit(X_train, y_train)\n",
        "y_pred2 = tree2.predict(X_test2)"
      ],
      "metadata": {
        "id": "h1godUPeRpTF",
        "outputId": "56ff1733-6ea7-485e-8655-0abb97218ccc",
        "colab": {
          "base_uri": "https://localhost:8080/"
        }
      },
      "execution_count": 9,
      "outputs": [
        {
          "output_type": "stream",
          "name": "stdout",
          "text": [
            "Wrapper Method\n",
            "Wrapper:  Index(['MedInc', 'HouseAge', 'AveRooms', 'AveOccup', 'Latitude'], dtype='object')\n"
          ]
        }
      ]
    },
    {
      "cell_type": "markdown",
      "source": [
        "3. Use any embedded methood to select the best features"
      ],
      "metadata": {
        "id": "Kq82AZxvRvTe"
      }
    },
    {
      "cell_type": "code",
      "source": [
        "X_train, X_test3, y_train, y_test3 = train_test_split(df_features, y,  random_state=1)\n",
        "rfr = RandomForestRegressor(n_estimators=500, random_state=0, max_depth=3)\n",
        "\n",
        "mrf = rfr.fit(X_train, y_train)\n",
        "\n",
        "sfm = SelectFromModel(mrf, prefit=True)\n",
        "index = sfm.get_support()\n",
        "\n",
        "res = df_features.iloc[:, index]\n",
        "\n",
        "\n",
        "X = df_features[res.columns]\n",
        "y = housing.target\n",
        "print(\"Embedded Method\")\n",
        "print(\"Embedded: \",res.columns)\n",
        "\n",
        "tree3 = DecisionTreeRegressor(random_state=0)\n",
        "y_pred3 = mrf.predict(X_test3)"
      ],
      "metadata": {
        "id": "-S8OQahTRyTM",
        "outputId": "34264da0-4347-4cd9-8078-6e32fb41ba91",
        "colab": {
          "base_uri": "https://localhost:8080/"
        }
      },
      "execution_count": 10,
      "outputs": [
        {
          "output_type": "stream",
          "name": "stdout",
          "text": [
            "Embedded Method\n",
            "Embedded:  Index(['MedInc', 'AveOccup'], dtype='object')\n"
          ]
        }
      ]
    },
    {
      "cell_type": "code",
      "source": [
        "treed = DecisionTreeRegressor(random_state=0)\n",
        "X = housing.data\n",
        "y = housing.target\n",
        "X_train, X_testd, y_train, y_testd = train_test_split(X, y,  random_state=1)\n",
        "treed.fit(X_train, y_train)\n",
        "y_predd = treed.predict(X_testd)\n",
        "print(\"RMSE: \")\n",
        "print(\"Default Method: \", rmse(y_testd, y_predd))\n",
        "print(\"Filtered Method Variance Threshold: \",rmse(y_test1, y_pred1))\n",
        "print(\"Wrapper Method: \", rmse(y_test2, y_pred2))\n",
        "print(\"Embedded Method: \",rmse(y_test3, y_pred3))"
      ],
      "metadata": {
        "id": "5RgIJjfk3O0W",
        "outputId": "628b083d-6633-4dac-80af-af033569cd11",
        "colab": {
          "base_uri": "https://localhost:8080/"
        }
      },
      "execution_count": 11,
      "outputs": [
        {
          "output_type": "stream",
          "name": "stdout",
          "text": [
            "RMSE: \n",
            "Default Method:  0.7388441108252426\n",
            "Filtered Method Variance Threshold:  1.3088702515934785\n",
            "Wrapper Method:  0.832817543080276\n",
            "Embedded Method:  0.765456706533764\n"
          ]
        }
      ]
    },
    {
      "cell_type": "code",
      "source": [],
      "metadata": {
        "id": "GO2czNHJBOk4"
      },
      "execution_count": 11,
      "outputs": []
    }
  ]
}